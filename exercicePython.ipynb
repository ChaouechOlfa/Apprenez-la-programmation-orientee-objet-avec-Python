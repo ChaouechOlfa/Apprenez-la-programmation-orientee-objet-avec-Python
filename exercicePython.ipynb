{
  "nbformat": 4,
  "nbformat_minor": 0,
  "metadata": {
    "colab": {
      "provenance": [],
      "authorship_tag": "ABX9TyMfDwAOT5+5HBdArwmEede7",
      "include_colab_link": true
    },
    "kernelspec": {
      "name": "python3",
      "display_name": "Python 3"
    },
    "language_info": {
      "name": "python"
    }
  },
  "cells": [
    {
      "cell_type": "markdown",
      "metadata": {
        "id": "view-in-github",
        "colab_type": "text"
      },
      "source": [
        "<a href=\"https://colab.research.google.com/github/ChaouechOlfa/Apprenez-la-programmation-orientee-objet-avec-Python/blob/main/exercicePython.ipynb\" target=\"_parent\"><img src=\"https://colab.research.google.com/assets/colab-badge.svg\" alt=\"Open In Colab\"/></a>"
      ]
    },
    {
      "cell_type": "code",
      "execution_count": null,
      "metadata": {
        "colab": {
          "base_uri": "https://localhost:8080/"
        },
        "id": "2GeJB6A_L1x3",
        "outputId": "f366cca0-57b5-4e29-ce92-59c6ce4e28ea"
      },
      "outputs": [
        {
          "output_type": "stream",
          "name": "stdout",
          "text": [
            "6\n"
          ]
        }
      ],
      "source": [
        "class Rectangle:\n",
        "   width=3\n",
        "   height=2\n",
        "   def Calculate_area(self):\n",
        "      return self.width*self.height\n",
        "\n",
        "rectangle=Rectangle()\n",
        "res=rectangle.Calculate_area()\n",
        "print(res)\n"
      ]
    },
    {
      "cell_type": "code",
      "source": [
        "class Rectangle:\n",
        "   def __init__(self, height, width, color=\"red\") :\n",
        "      self.height=height\n",
        "      self.width=width\n",
        "      self.color=color\n",
        "   def Calculate_area(self):\n",
        "      return self.width*self.height\n",
        "\n",
        "rectangle=Rectangle(5,3)\n",
        "res=rectangle.Calculate_area()\n",
        "print(res)"
      ],
      "metadata": {
        "colab": {
          "base_uri": "https://localhost:8080/"
        },
        "id": "BpbQg0dSv4aY",
        "outputId": "33aa2906-37ad-4c95-a6e9-68a4a4393d80"
      },
      "execution_count": null,
      "outputs": [
        {
          "output_type": "stream",
          "name": "stdout",
          "text": [
            "15\n"
          ]
        }
      ]
    },
    {
      "cell_type": "code",
      "source": [
        "class Rectangle:\n",
        "   def __init__(self, height, width, color=\"red\") :\n",
        "      self.height=height\n",
        "      self.width=width\n",
        "      self.color=color\n",
        "   def Calculate_area(self):\n",
        "      return self.width*self.height\n",
        "\n",
        "rectangle=Rectangle(5,3)\n",
        "res=Rectangle.Calculate_area(rectangle)\n",
        "print(res)"
      ],
      "metadata": {
        "colab": {
          "base_uri": "https://localhost:8080/"
        },
        "id": "BEvbKcfZ1Myf",
        "outputId": "ffd59f6b-2517-4b0f-a540-ac56612ac848"
      },
      "execution_count": null,
      "outputs": [
        {
          "output_type": "stream",
          "name": "stdout",
          "text": [
            "15\n"
          ]
        }
      ]
    }
  ]
}